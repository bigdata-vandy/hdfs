{
 "cells": [
  {
   "cell_type": "markdown",
   "metadata": {},
   "source": [
    "# Quick Jupyter Notebook Demonstrating Shell Magic Commands and HDFS Commands"
   ]
  },
  {
   "cell_type": "markdown",
   "metadata": {},
   "source": [
    "This demo is being performed from The Big Data/Hadoop test environment on the ACCRE cluster. Jupyter notebooks support some Linux shell \"magic\" commands natively."
   ]
  },
  {
   "cell_type": "markdown",
   "metadata": {},
   "source": [
    "## Magic Commands"
   ]
  },
  {
   "cell_type": "code",
   "execution_count": 13,
   "metadata": {
    "collapsed": false
   },
   "outputs": [
    {
     "data": {
      "application/json": {
       "cell": {
        "!": "OSMagics",
        "HTML": "Other",
        "SVG": "Other",
        "bash": "Other",
        "capture": "ExecutionMagics",
        "debug": "ExecutionMagics",
        "file": "Other",
        "html": "DisplayMagics",
        "javascript": "DisplayMagics",
        "latex": "DisplayMagics",
        "perl": "Other",
        "prun": "ExecutionMagics",
        "pypy": "Other",
        "python": "Other",
        "python2": "Other",
        "python3": "Other",
        "ruby": "Other",
        "script": "ScriptMagics",
        "sh": "Other",
        "svg": "DisplayMagics",
        "sx": "OSMagics",
        "system": "OSMagics",
        "time": "ExecutionMagics",
        "timeit": "ExecutionMagics",
        "writefile": "OSMagics"
       },
       "line": {
        "alias": "OSMagics",
        "alias_magic": "BasicMagics",
        "autocall": "AutoMagics",
        "automagic": "AutoMagics",
        "autosave": "KernelMagics",
        "bookmark": "OSMagics",
        "cat": "Other",
        "cd": "OSMagics",
        "clear": "KernelMagics",
        "colors": "BasicMagics",
        "config": "ConfigMagics",
        "connect_info": "KernelMagics",
        "cp": "Other",
        "debug": "ExecutionMagics",
        "dhist": "OSMagics",
        "dirs": "OSMagics",
        "doctest_mode": "BasicMagics",
        "ed": "Other",
        "edit": "KernelMagics",
        "env": "OSMagics",
        "gui": "BasicMagics",
        "hist": "Other",
        "history": "HistoryMagics",
        "install_default_config": "DeprecatedMagics",
        "install_ext": "ExtensionMagics",
        "install_profiles": "DeprecatedMagics",
        "killbgscripts": "ScriptMagics",
        "ldir": "Other",
        "less": "KernelMagics",
        "lf": "Other",
        "lk": "Other",
        "ll": "Other",
        "load": "CodeMagics",
        "load_ext": "ExtensionMagics",
        "loadpy": "CodeMagics",
        "logoff": "LoggingMagics",
        "logon": "LoggingMagics",
        "logstart": "LoggingMagics",
        "logstate": "LoggingMagics",
        "logstop": "LoggingMagics",
        "ls": "Other",
        "lsmagic": "BasicMagics",
        "lx": "Other",
        "macro": "ExecutionMagics",
        "magic": "BasicMagics",
        "man": "KernelMagics",
        "matplotlib": "PylabMagics",
        "mkdir": "Other",
        "more": "KernelMagics",
        "mv": "Other",
        "notebook": "BasicMagics",
        "page": "BasicMagics",
        "pastebin": "CodeMagics",
        "pdb": "ExecutionMagics",
        "pdef": "NamespaceMagics",
        "pdoc": "NamespaceMagics",
        "pfile": "NamespaceMagics",
        "pinfo": "NamespaceMagics",
        "pinfo2": "NamespaceMagics",
        "popd": "OSMagics",
        "pprint": "BasicMagics",
        "precision": "BasicMagics",
        "profile": "BasicMagics",
        "prun": "ExecutionMagics",
        "psearch": "NamespaceMagics",
        "psource": "NamespaceMagics",
        "pushd": "OSMagics",
        "pwd": "OSMagics",
        "pycat": "OSMagics",
        "pylab": "PylabMagics",
        "qtconsole": "KernelMagics",
        "quickref": "BasicMagics",
        "recall": "HistoryMagics",
        "rehashx": "OSMagics",
        "reload_ext": "ExtensionMagics",
        "rep": "Other",
        "rerun": "HistoryMagics",
        "reset": "NamespaceMagics",
        "reset_selective": "NamespaceMagics",
        "rm": "Other",
        "rmdir": "Other",
        "run": "ExecutionMagics",
        "save": "CodeMagics",
        "sc": "OSMagics",
        "set_env": "OSMagics",
        "store": "StoreMagics",
        "sx": "OSMagics",
        "system": "OSMagics",
        "tb": "ExecutionMagics",
        "time": "ExecutionMagics",
        "timeit": "ExecutionMagics",
        "unalias": "OSMagics",
        "unload_ext": "ExtensionMagics",
        "who": "NamespaceMagics",
        "who_ls": "NamespaceMagics",
        "whos": "NamespaceMagics",
        "xdel": "NamespaceMagics",
        "xmode": "BasicMagics"
       }
      },
      "text/plain": [
       "Available line magics:\n",
       "%alias  %alias_magic  %autocall  %automagic  %autosave  %bookmark  %cat  %cd  %clear  %colors  %config  %connect_info  %cp  %debug  %dhist  %dirs  %doctest_mode  %ed  %edit  %env  %gui  %hist  %history  %install_default_config  %install_ext  %install_profiles  %killbgscripts  %ldir  %less  %lf  %lk  %ll  %load  %load_ext  %loadpy  %logoff  %logon  %logstart  %logstate  %logstop  %ls  %lsmagic  %lx  %macro  %magic  %man  %matplotlib  %mkdir  %more  %mv  %notebook  %page  %pastebin  %pdb  %pdef  %pdoc  %pfile  %pinfo  %pinfo2  %popd  %pprint  %precision  %profile  %prun  %psearch  %psource  %pushd  %pwd  %pycat  %pylab  %qtconsole  %quickref  %recall  %rehashx  %reload_ext  %rep  %rerun  %reset  %reset_selective  %rm  %rmdir  %run  %save  %sc  %set_env  %store  %sx  %system  %tb  %time  %timeit  %unalias  %unload_ext  %who  %who_ls  %whos  %xdel  %xmode\n",
       "\n",
       "Available cell magics:\n",
       "%%!  %%HTML  %%SVG  %%bash  %%capture  %%debug  %%file  %%html  %%javascript  %%latex  %%perl  %%prun  %%pypy  %%python  %%python2  %%python3  %%ruby  %%script  %%sh  %%svg  %%sx  %%system  %%time  %%timeit  %%writefile\n",
       "\n",
       "Automagic is ON, % prefix IS NOT needed for line magics."
      ]
     },
     "execution_count": 13,
     "metadata": {},
     "output_type": "execute_result"
    }
   ],
   "source": [
    "%lsmagic\n"
   ]
  },
  {
   "cell_type": "code",
   "execution_count": 14,
   "metadata": {
    "collapsed": false
   },
   "outputs": [
    {
     "data": {
      "text/plain": [
       "u'/home/frenchwr'"
      ]
     },
     "execution_count": 14,
     "metadata": {},
     "output_type": "execute_result"
    }
   ],
   "source": [
    "%pwd"
   ]
  },
  {
   "cell_type": "code",
   "execution_count": 15,
   "metadata": {
    "collapsed": false
   },
   "outputs": [
    {
     "name": "stdout",
     "output_type": "stream",
     "text": [
      "\u001b[0m\u001b[38;5;27mbuild\u001b[0m/      \u001b[38;5;27mhadoop_tutorial\u001b[0m/       hdfs.ipynb          \u001b[38;5;27mmydir\u001b[0m/    \u001b[38;5;27mmy_test_repo\u001b[0m/\r\n",
      "example.db  \u001b[38;5;9mhadoopTutorial.tar.gz\u001b[0m  \u001b[38;5;27mjupyter_notebooks\u001b[0m/  myls.txt\r\n"
     ]
    }
   ],
   "source": [
    "%ls"
   ]
  },
  {
   "cell_type": "code",
   "execution_count": 16,
   "metadata": {
    "collapsed": false
   },
   "outputs": [
    {
     "name": "stdout",
     "output_type": "stream",
     "text": [
      "total 96K\r\n",
      "drwxr-xr-x. 2 frenchwr vu_ldap   6 Jan  6 16:26 \u001b[0m\u001b[38;5;27mbuild\u001b[0m/\r\n",
      "-rw-r--r--. 1 frenchwr vu_ldap   0 Jan 21 15:22 example.db\r\n",
      "drwxr-xr-x. 5 frenchwr vu_ldap  57 Sep  1  2015 \u001b[38;5;27mhadoop_tutorial\u001b[0m/\r\n",
      "-rw-r-----. 1 frenchwr vu_ldap 19K Jan  6 16:28 \u001b[38;5;9mhadoopTutorial.tar.gz\u001b[0m\r\n",
      "-rw-r--r--. 1 frenchwr vu_ldap 70K Mar 28 16:58 hdfs.ipynb\r\n",
      "drwxr-xr-x. 2 frenchwr vu_ldap   6 Mar 28 15:23 \u001b[38;5;27mjupyter_notebooks\u001b[0m/\r\n",
      "drwxr-xr-x. 2 frenchwr vu_ldap  23 Jan 21 15:25 \u001b[38;5;27mmydir\u001b[0m/\r\n",
      "-rw-r--r--. 1 frenchwr vu_ldap 204 Mar 28 16:44 myls.txt\r\n",
      "drwxr-xr-x. 4 frenchwr vu_ldap  43 Jan 21 15:46 \u001b[38;5;27mmy_test_repo\u001b[0m/\r\n"
     ]
    }
   ],
   "source": [
    "%ls -lh"
   ]
  },
  {
   "cell_type": "markdown",
   "metadata": {},
   "source": [
    "## Non-Magic Linux Commands"
   ]
  },
  {
   "cell_type": "markdown",
   "metadata": {},
   "source": [
    "Other Linux shell commands are not supported as magic commands, but you can still run them."
   ]
  },
  {
   "cell_type": "code",
   "execution_count": 17,
   "metadata": {
    "collapsed": false
   },
   "outputs": [
    {
     "name": "stdout",
     "output_type": "stream",
     "text": [
      "vmp740.vampire\r\n"
     ]
    }
   ],
   "source": [
    "!hostname"
   ]
  },
  {
   "cell_type": "code",
   "execution_count": 18,
   "metadata": {
    "collapsed": false
   },
   "outputs": [
    {
     "name": "stdout",
     "output_type": "stream",
     "text": [
      "frenchwr\r\n"
     ]
    }
   ],
   "source": [
    "!whoami"
   ]
  },
  {
   "cell_type": "markdown",
   "metadata": {},
   "source": [
    "## HDFS (Hadoop Filesystem) Commands\n",
    "\n",
    "If you have used the Linux shell (e.g. Bash) for creating and managing files, the ```hadoop fs``` commands will seem very familiar."
   ]
  },
  {
   "cell_type": "code",
   "execution_count": 19,
   "metadata": {
    "collapsed": false
   },
   "outputs": [
    {
     "name": "stdout",
     "output_type": "stream",
     "text": [
      "Found 5 items\r\n",
      "drwxr-xr-x   - hbase hadoop          0 2016-02-22 11:45 /hbase\r\n",
      "drwx------   - hdfs  hadoop          0 2016-03-28 16:56 /mytestdir\r\n",
      "drwxrwxrwt   - hdfs  hadoop          0 2016-03-28 16:45 /tmp\r\n",
      "drwxr-xr-x   - hdfs  hadoop          0 2016-03-17 17:09 /user\r\n",
      "drwxr-xr-x   - yarn  hadoop          0 2016-01-07 18:44 /var\r\n"
     ]
    }
   ],
   "source": [
    "!hadoop fs -ls /\n"
   ]
  },
  {
   "cell_type": "code",
   "execution_count": 20,
   "metadata": {
    "collapsed": false
   },
   "outputs": [
    {
     "name": "stdout",
     "output_type": "stream",
     "text": [
      "Found 5 items\r\n",
      "drwx------   - frenchwr hadoop          0 2016-03-28 16:58 /user/frenchwr/.Trash\r\n",
      "drwxr-xr-x   - frenchwr hadoop          0 2016-03-18 16:55 /user/frenchwr/.sparkStaging\r\n",
      "drwx------   - frenchwr hadoop          0 2016-02-23 23:22 /user/frenchwr/.staging\r\n",
      "drwxr-xr-x   - frenchwr hadoop          0 2016-02-23 13:22 /user/frenchwr/tmp\r\n",
      "drwxr-xr-x   - frenchwr hadoop          0 2016-01-07 18:54 /user/frenchwr/wordcount\r\n"
     ]
    }
   ],
   "source": [
    "!hadoop fs -ls /user/frenchwr/"
   ]
  },
  {
   "cell_type": "markdown",
   "metadata": {},
   "source": [
    "You can also embed pipes!"
   ]
  },
  {
   "cell_type": "code",
   "execution_count": 21,
   "metadata": {
    "collapsed": false
   },
   "outputs": [
    {
     "name": "stdout",
     "output_type": "stream",
     "text": [
      "-rwxrwx---   3 frenchwr spark      45703 2016-03-21 19:11 /user/spark/applicationHistory/app-20160321191035-0000\n",
      "-rwxrwx---   3 frenchwr spark      45743 2016-03-21 19:13 /user/spark/applicationHistory/app-20160321191318-0001\n",
      "-rwxrwx---   3 frenchwr spark      47845 2016-03-22 10:01 /user/spark/applicationHistory/app-20160322100057-0021\n",
      "-rwxrwx---   3 frenchwr spark      59547 2016-03-21 19:02 /user/spark/applicationHistory/local-1458604970491\n",
      "-rwxrwx---   3 frenchwr spark     140591 2016-03-21 19:03 /user/spark/applicationHistory/local-1458605008555\n",
      "-rwxrwx---   3 frenchwr spark     954228 2016-03-21 19:06 /user/spark/applicationHistory/local-1458605167776\n",
      "-rwxrwx---   3 frenchwr spark     140591 2016-03-22 09:50 /user/spark/applicationHistory/local-1458658239816\n",
      "-rwxrwx---   3 frenchwr spark      44796 2016-03-22 09:57 /user/spark/applicationHistory/local-1458658526492\n",
      "-rwxrwx---   3 frenchwr spark      44796 2016-03-22 09:59 /user/spark/applicationHistory/local-1458658763255\n"
     ]
    }
   ],
   "source": [
    "!hadoop fs -ls /user/spark/applicationHistory/ | grep frenchwr"
   ]
  },
  {
   "cell_type": "code",
   "execution_count": 22,
   "metadata": {
    "collapsed": false
   },
   "outputs": [
    {
     "name": "stdout",
     "output_type": "stream",
     "text": [
      "{\"Event\":\"SparkListenerLogStart\",\"Spark Version\":\"1.5.0-cdh5.5.1\"}\r\n",
      "{\"Event\":\"SparkListenerBlockManagerAdded\",\"Block Manager ID\":{\"Executor ID\":\"driver\",\"Host\":\"10.0.22.243\",\"Port\":60577},\"Maximum Memory\":555755765,\"Timestamp\":1458658857363}\r\n",
      "{\"Event\":\"SparkListenerEnvironmentUpdate\",\"JVM Information\":{\"Java Home\":\"/usr/lib/jvm/java-1.8.0-openjdk-1.8.0.65-3.b17.el7.x86_64/jre\",\"Java Version\":\"1.8.0_65 (Oracle Corporation)\",\"Scala Version\":\"version 2.10.4\"},\"Spark Properties\":{\"spark.driver.host\":\"10.0.22.243\",\"spark.serializer.objectStreamReset\":\"100\",\"spark.eventLog.enabled\":\"true\",\"spark.driver.port\":\"35960\",\"spark.rdd.compress\":\"True\",\"spark.yarn.historyServer.address\":\"http://vmp741.vampire:18088\",\"spark.app.name\":\"PySparkShell\",\"spark.scheduler.mode\":\"FIFO\",\"spark.executor.id\":\"driver\",\"spark.submit.deployMode\":\"client\",\"spark.master\":\"spark://10.0.22.241:7077\",\"spark.eventLog.dir\":\"hdfs://vmp741.vampire:8020/user/spark/applicationHistory\",\"spark.fileserver.uri\":\"http://10.0.22.243:34422\",\"spark.externalBlockStore.folderName\":\"spark-e4053d19-8d01-437c-bc15-3fc804e970c4\",\"spark.app.id\":\"app-20160322100057-0021\"},\"System Properties\":{\"java.io.tmpdir\":\"/tmp\",\"line.separator\":\"\\n\",\"path.separator\":\":\",\"sun.management.compiler\":\"HotSpot 64-Bit Tiered Compilers\",\"SPARK_SUBMIT\":\"true\",\"sun.cpu.endian\":\"little\",\"java.specification.version\":\"1.8\",\"java.vm.specification.name\":\"Java Virtual Machine Specification\",\"java.vendor\":\"Oracle Corporation\",\"java.vm.specification.version\":\"1.8\",\"user.home\":\"/home/frenchwr\",\"file.encoding.pkg\":\"sun.io\",\"sun.nio.ch.bugLevel\":\"\",\"sun.arch.data.model\":\"64\",\"sun.boot.library.path\":\"/usr/lib/jvm/java-1.8.0-openjdk-1.8.0.65-3.b17.el7.x86_64/jre/lib/amd64\",\"user.dir\":\"/home/frenchwr\",\"java.library.path\":\":/usr/lib/hadoop/lib/native:/usr/java/packages/lib/amd64:/usr/lib64:/lib64:/lib:/usr/lib\",\"sun.cpu.isalist\":\"\",\"os.arch\":\"amd64\",\"java.vm.version\":\"25.65-b01\",\"java.endorsed.dirs\":\"/usr/lib/jvm/java-1.8.0-openjdk-1.8.0.65-3.b17.el7.x86_64/jre/lib/endorsed\",\"java.runtime.version\":\"1.8.0_65-b17\",\"java.vm.info\":\"mixed mode\",\"java.ext.dirs\":\"/usr/lib/jvm/java-1.8.0-openjdk-1.8.0.65-3.b17.el7.x86_64/jre/lib/ext:/usr/java/packages/lib/ext\",\"java.runtime.name\":\"OpenJDK Runtime Environment\",\"file.separator\":\"/\",\"java.class.version\":\"52.0\",\"java.specification.name\":\"Java Platform API Specification\",\"sun.boot.class.path\":\"/usr/lib/jvm/java-1.8.0-openjdk-1.8.0.65-3.b17.el7.x86_64/jre/lib/resources.jar:/usr/lib/jvm/java-1.8.0-openjdk-1.8.0.65-3.b17.el7.x86_64/jre/lib/rt.jar:/usr/lib/jvm/java-1.8.0-openjdk-1.8.0.65-3.b17.el7.x86_64/jre/lib/sunrsasign.jar:/usr/lib/jvm/java-1.8.0-openjdk-1.8.0.65-3.b17.el7.x86_64/jre/lib/jsse.jar:/usr/lib/jvm/java-1.8.0-openjdk-1.8.0.65-3.b17.el7.x86_64/jre/lib/jce.jar:/usr/lib/jvm/java-1.8.0-openjdk-1.8.0.65-3.b17.el7.x86_64/jre/lib/charsets.jar:/usr/lib/jvm/java-1.8.0-openjdk-1.8.0.65-3.b17.el7.x86_64/jre/lib/jfr.jar:/usr/lib/jvm/java-1.8.0-openjdk-1.8.0.65-3.b17.el7.x86_64/jre/classes\",\"file.encoding\":\"UTF-8\",\"user.timezone\":\"America/Chicago\",\"java.specification.vendor\":\"Oracle Corporation\",\"sun.java.launcher\":\"SUN_STANDARD\",\"os.version\":\"3.10.0-327.3.1.el7.x86_64\",\"sun.os.patch.level\":\"unknown\",\"java.vm.specification.vendor\":\"Oracle Corporation\",\"user.country\":\"US\",\"sun.jnu.encoding\":\"UTF-8\",\"user.language\":\"en\",\"java.vendor.url\":\"http://java.oracle.com/\",\"java.awt.printerjob\":\"sun.print.PSPrinterJob\",\"java.awt.graphicsenv\":\"sun.awt.X11GraphicsEnvironment\",\"awt.toolkit\":\"sun.awt.X11.XToolkit\",\"os.name\":\"Linux\",\"java.vm.vendor\":\"Oracle Corporation\",\"java.vendor.url.bug\":\"http://bugreport.sun.com/bugreport/\",\"user.name\":\"frenchwr\",\"java.vm.name\":\"OpenJDK 64-Bit Server VM\",\"sun.java.command\":\"org.apache.spark.deploy.SparkSubmit --master spark://10.0.22.241:7077 --name PySparkShell pyspark-shell\",\"java.home\":\"/usr/lib/jvm/java-1.8.0-openjdk-1.8.0.65-3.b17.el7.x86_64/jre\",\"java.version\":\"1.8.0_65\",\"sun.io.unicode.encoding\":\"UnicodeLittle\"},\"Classpath Entries\":{\"/usr/lib/hadoop/hadoop-annotations.jar\":\"System Classpath\",\"/usr/lib/hadoop-yarn/hadoop-yarn-server-tests.jar\":\"System Classpath\",\"/usr/lib/hadoop-yarn/lib/commons-cli-1.2.jar\":\"System Classpath\",\"/usr/lib/hadoop-yarn/lib/leveldbjni-all-1.8.jar\":\"System Classpath\",\"/usr/lib/hive/lib/hive-shims-0.23.jar\":\"System Classpath\",\"/usr/lib/flume-ng/lib/servlet-api-2.5-20110124.jar\":\"System Classpath\",\"/usr/lib/hadoop-yarn/lib/xz-1.0.jar\":\"System Classpath\",\"/usr/lib/flume-ng/lib/flume-ng-kafka-sink.jar\":\"System Classpath\",\"/usr/lib/flume-ng/lib/flume-thrift-source-1.6.0-cdh5.5.1.jar\":\"System Classpath\",\"/usr/lib/hadoop-hdfs/lib/asm-3.2.jar\":\"System Classpath\",\"/usr/lib/hadoop-mapreduce/hadoop-mapreduce-client-shuffle.jar\":\"System Classpath\",\"/usr/lib/hive/lib/hive-shims-common-1.1.0-cdh5.5.1.jar\":\"System Classpath\",\"/usr/lib/hive/lib/hive-shims.jar\":\"System Classpath\",\"/usr/lib/hadoop/parquet-thrift.jar\":\"System Classpath\",\"/usr/lib/flume-ng/lib/xalan-2.7.2.jar\":\"System Classpath\",\"/usr/lib/hadoop-mapreduce/commons-logging-1.1.3.jar\":\"System Classpath\",\"/usr/lib/hadoop-mapreduce/hadoop-mapreduce-client-hs-plugins.jar\":\"System Classpath\",\"/usr/lib/flume-ng/lib/jackson-annotations-2.3.1.jar\":\"System Classpath\",\"/usr/lib/hadoop-yarn/hadoop-yarn-client-2.6.0-cdh5.5.1.jar\":\"System Classpath\",\"/usr/lib/hive/lib/hamcrest-core-1.1.jar\":\"System Classpath\",\"/usr/lib/spark/conf/\":\"System Classpath\",\"/usr/lib/hadoop-mapreduce/hadoop-datajoin-2.6.0-cdh5.5.1.jar\":\"System Classpath\",\"/usr/lib/paquet/lib/*\":\"System Classpath\",\"/usr/lib/hadoop-yarn/lib/jersey-json-1.9.jar\":\"System Classpath\",\"/usr/lib/hadoop-mapreduce/lib/leveldbjni-all-1.8.jar\":\"System Classpath\",\"/usr/lib/flume-ng/lib/flume-thrift-source.jar\":\"System Classpath\",\"/usr/lib/flume-ng/lib/httpcore-4.2.5.jar\":\"System Classpath\",\"/usr/lib/hadoop-mapreduce/hadoop-rumen.jar\":\"System Classpath\",\"/usr/lib/hadoop-mapreduce/hadoop-rumen-2.6.0-cdh5.5.1.jar\":\"System Classpath\",\"/usr/lib/flume-ng/lib/commons-io-2.4.jar\":\"System Classpath\",\"/usr/lib/hadoop-yarn/lib/commons-collections-3.2.2.jar\":\"System Classpath\",\"/usr/lib/hadoop-mapreduce/apacheds-i18n-2.0.0-M15.jar\":\"System Classpath\",\"/usr/lib/hadoop/lib/api-util-1.0.0-M20.jar\":\"System Classpath\",\"/usr/lib/hadoop-mapreduce/jackson-annotations-2.2.3.jar\":\"System Classpath\",\"/usr/lib/flume-ng/lib/flume-ng-morphline-solr-sink-1.6.0-cdh5.5.1.jar\":\"System Classpath\",\"/usr/lib/hadoop-yarn/lib/jackson-jaxrs-1.8.8.jar\":\"System Classpath\",\"/usr/lib/flume-ng/lib/xml-apis-1.3.04.jar\":\"System Classpath\",\"/usr/lib/hadoop-mapreduce/hamcrest-core-1.3.jar\":\"System Classpath\",\"/usr/lib/hadoop-yarn/lib/jaxb-api-2.2.2.jar\":\"System Classpath\",\"/usr/lib/hadoop-mapreduce/hadoop-azure.jar\":\"System Classpath\",\"/usr/lib/hadoop-mapreduce/commons-beanutils-1.7.0.jar\":\"System Classpath\",\"/usr/lib/hadoop-hdfs/lib/jetty-util-6.1.26.cloudera.4.jar\":\"System Classpath\",\"/usr/lib/hadoop-mapreduce/lib/junit-4.11.jar\":\"System Classpath\",\"/usr/lib/hive/lib/hive-exec.jar\":\"System Classpath\",\"/usr/lib/hadoop-hdfs/lib/commons-io-2.4.jar\":\"System Classpath\",\"/usr/lib/hadoop-yarn/hadoop-yarn-server-resourcemanager-2.6.0-cdh5.5.1.jar\":\"System Classpath\",\"/usr/lib/hadoop-mapreduce/hadoop-openstack-2.6.0-cdh5.5.1.jar\":\"System Classpath\",\"/usr/lib/hadoop-mapreduce/hadoop-archive-logs-2.6.0-cdh5.5.1.jar\":\"System Classpath\",\"/usr/lib/hadoop-mapreduce/lib/jackson-mapper-asl-1.8.8.jar\":\"System Classpath\",\"/usr/lib/hive/lib/hive-common.jar\":\"System Classpath\",\"/usr/lib/hadoop-mapreduce/jasper-runtime-5.5.23.jar\":\"System Classpath\",\"/usr/lib/flume-ng/lib/flume-ng-core.jar\":\"System Classpath\",\"/usr/lib/hadoop/lib/commons-cli-1.2.jar\":\"System Classpath\",\"/usr/lib/hadoop-yarn/lib/jersey-core-1.9.jar\":\"System Classpath\",\"/usr/lib/hadoop-yarn/hadoop-yarn-api.jar\":\"System Classpath\",\"/usr/lib/hadoop-mapreduce/commons-beanutils-core-1.8.0.jar\":\"System Classpath\",\"/usr/lib/hive/lib/hive-exec-1.1.0-cdh5.5.1.jar\":\"System Classpath\",\"/usr/lib/hadoop-mapreduce/hadoop-sls.jar\":\"System Classpath\",\"/usr/lib/flume-ng/lib/kite-data-hive.jar\":\"System Classpath\",\"/usr/lib/flume-ng/lib/zkclient-0.3.jar\":\"System Classpath\",\"/usr/lib/hive/lib/hive-ant-1.1.0-cdh5.5.1.jar\":\"System Classpath\",\"/usr/lib/hive/lib/mail-1.4.1.jar\":\"System Classpath\",\"/usr/lib/hadoop/lib/jsp-api-2.1.jar\":\"System Classpath\",\"/usr/lib/hive/lib/jackson-xc-1.9.2.jar\":\"System Classpath\",\"/usr/lib/hive/lib/servlet-api-2.5.jar\":\"System Classpath\",\"/usr/lib/hive/lib/httpclient-4.2.5.jar\":\"System Classpath\",\"/usr/lib/hadoop/lib/jackson-xc-1.8.8.jar\":\"System Classpath\",\"/usr/lib/hadoop-yarn/hadoop-yarn-server-web-proxy.jar\":\"System Classpath\",\"/usr/lib/hadoop-mapreduce/lib/jersey-guice-1.9.jar\":\"System Classpath\",\"/usr/lib/hive/lib/curator-framework-2.6.0.jar\":\"System Classpath\",\"/usr/lib/hive/lib/log4j-1.2.16.jar\":\"System Classpath\",\"/usr/lib/hadoop-mapreduce/avro.jar\":\"System Classpath\",\"/usr/lib/flume-ng/lib/flume-jdbc-channel.jar\":\"System Classpath\",\"/usr/lib/hadoop/lib/httpcore-4.2.5.jar\":\"System Classpath\",\"/usr/lib/hive/lib/hive-metastore-1.1.0-cdh5.5.1.jar\":\"System Classpath\",\"/usr/lib/hadoop/lib/jackson-jaxrs-1.8.8.jar\":\"System Classpath\",\"/usr/lib/flume-ng/lib/twitter4j-core-3.0.3.jar\":\"System Classpath\",\"/usr/lib/hive/lib/commons-dbcp-1.4.jar\":\"System Classpath\",\"/usr/lib/hadoop-mapreduce/paranamer-2.3.jar\":\"System Classpath\",\"/usr/lib/hive/lib/eigenbase-properties-1.1.4.jar\":\"System Classpath\",\"/usr/lib/hadoop-yarn/hadoop-yarn-server-nodemanager.jar\":\"System Classpath\",\"/usr/lib/hadoop-yarn/lib/aopalliance-1.0.jar\":\"System Classpath\",\"/usr/lib/hadoop-mapreduce/activation-1.1.jar\":\"System Classpath\",\"/usr/lib/hadoop-mapreduce/hadoop-azure-2.6.0-cdh5.5.1.jar\":\"System Classpath\",\"/usr/lib/hive/lib/zookeeper.jar\":\"System Classpath\",\"/usr/lib/hive/lib/hive-shims-1.1.0-cdh5.5.1.jar\":\"System Classpath\",\"/usr/lib/hadoop/parquet-tools.jar\":\"System Classpath\",\"/usr/lib/flume-ng/lib/flume-kafka-channel-1.6.0-cdh5.5.1.jar\":\"System Classpath\",\"/usr/lib/hadoop/lib/jsch-0.1.42.jar\":\"System Classpath\",\"/usr/lib/hadoop-mapreduce/mockito-all-1.8.5.jar\":\"System Classpath\",\"/usr/lib/flume-ng/lib/twitter4j-stream-3.0.3.jar\":\"System Classpath\",\"/usr/lib/hive/lib/hive-jdbc-standalone.jar\":\"System Classpath\",\"/usr/lib/hadoop-yarn/hadoop-yarn-server-applicationhistoryservice.jar\":\"System Classpath\",\"/usr/lib/hadoop/lib/mockito-all-1.8.5.jar\":\"System Classpath\",\"/usr/lib/hadoop/lib/zookeeper.jar\":\"System Classpath\",\"/usr/lib/hive/lib/apache-log4j-extras-1.2.17.jar\":\"System Classpath\",\"/usr/lib/hadoop-mapreduce/jettison-1.1.jar\":\"System Classpath\",\"/usr/lib/hadoop/lib/apacheds-i18n-2.0.0-M15.jar\":\"System Classpath\",\"/usr/lib/hadoop-yarn/hadoop-yarn-server-common.jar\":\"System Classpath\",\"/usr/lib/hadoop/lib/apacheds-kerberos-codec-2.0.0-M15.jar\":\"System Classpath\",\"/usr/lib/flume-ng/lib/flume-twitter-source.jar\":\"System Classpath\",\"/usr/lib/hadoop-hdfs/lib/jasper-runtime-5.5.23.jar\":\"System Classpath\",\"/usr/lib/flume-ng/lib/flume-ng-configuration.jar\":\"System Classpath\",\"/usr/lib/flume-ng/lib/flume-ng-auth.jar\":\"System Classpath\",\"/usr/lib/hadoop-mapreduce/metrics-core-3.0.2.jar\":\"System Classpath\",\"/usr/lib/hadoop-mapreduce/lib/log4j-1.2.17.jar\":\"System Classpath\",\"/usr/lib/flume-ng/lib/flume-ng-node.jar\":\"System Classpath\",\"/usr/lib/hadoop-hdfs/lib/htrace-core4-4.0.1-incubating.jar\":\"System Classpath\",\"/usr/lib/hadoop-yarn/lib/stax-api-1.0-2.jar\":\"System Classpath\",\"/usr/lib/hive/lib/commons-httpclient-3.0.1.jar\":\"System Classpath\",\"/usr/lib/hadoop/lib/protobuf-java-2.5.0.jar\":\"System Classpath\",\"/usr/lib/hadoop-hdfs/lib/commons-cli-1.2.jar\":\"System Classpath\",\"/usr/lib/hive/lib/asm-commons-3.1.jar\":\"System Classpath\",\"/usr/lib/hive/lib/commons-io-2.4.jar\":\"System Classpath\",\"/usr/lib/hadoop-mapreduce/snappy-java-1.0.4.1.jar\":\"System Classpath\",\"/usr/lib/hive/lib/ant-1.9.1.jar\":\"System Classpath\",\"/usr/lib/hive/lib/hive-contrib.jar\":\"System Classpath\",\"/usr/lib/flume-ng/lib/slf4j-log4j12-1.7.5.jar\":\"System Classpath\",\"/usr/lib/hive/lib/asm-3.2.jar\":\"System Classpath\",\"/usr/lib/hive/lib/jackson-databind-2.2.2.jar\":\"System Classpath\",\"/usr/lib/hadoop/lib/commons-httpclient-3.1.jar\":\"System Classpath\",\"/usr/lib/hadoop-hdfs/lib/log4j-1.2.17.jar\":\"System Classpath\",\"/usr/lib/hive/lib/ST4-4.0.4.jar\":\"System Classpath\",\"/usr/lib/hadoop/lib/jaxb-api-2.2.2.jar\":\"System Classpath\",\"/usr/lib/hadoop-hdfs/lib/xmlenc-0.52.jar\":\"System Classpath\",\"/usr/lib/hadoop-mapreduce/lib/guice-servlet-3.0.jar\":\"System Classpath\",\"/usr/lib/hive/lib/hive-beeline.jar\":\"System Classpath\",\"/usr/lib/hadoop-yarn/lib/jline-2.11.jar\":\"System Classpath\",\"/usr/lib/hadoop/lib/commons-el-1.0.jar\":\"System Classpath\",\"/usr/lib/hadoop-yarn/lib/jackson-core-asl-1.8.8.jar\":\"System Classpath\",\"/usr/lib/hadoop-mapreduce/microsoft-windowsazure-storage-sdk-0.6.0.jar\":\"System Classpath\",\"/usr/lib/hadoop-mapreduce/curator-recipes-2.7.1.jar\":\"System Classpath\",\"/usr/lib/hadoop-mapreduce/httpcore-4.2.5.jar\":\"System Classpath\",\"/usr/lib/hadoop-mapreduce/hadoop-archive-logs.jar\":\"System Classpath\",\"/usr/lib/hive/lib/hive-accumulo-handler-1.1.0-cdh5.5.1.jar\":\"System Classpath\",\"/usr/lib/hadoop-mapreduce/servlet-api-2.5.jar\":\"System Classpath\",\"/usr/lib/hadoop-yarn/lib/jackson-xc-1.8.8.jar\":\"System Classpath\",\"/usr/lib/hadoop/parquet-avro.jar\":\"System Classpath\",\"/usr/lib/hadoop/lib/gson-2.2.4.jar\":\"System Classpath\",\"/usr/lib/flume-ng/lib/serializer-2.7.2.jar\":\"System Classpath\",\"/usr/lib/hadoop-yarn/hadoop-yarn-applications-unmanaged-am-launcher.jar\":\"System Classpath\",\"/usr/lib/hadoop/lib/commons-digester-1.8.jar\":\"System Classpath\",\"/usr/lib/flume-ng/lib/curator-client-2.6.0.jar\":\"System Classpath\",\"/usr/lib/hadoop-hdfs/lib/jackson-core-asl-1.8.8.jar\":\"System Classpath\",\"/usr/lib/hadoop-mapreduce/commons-cli-1.2.jar\":\"System Classpath\",\"/usr/lib/hadoop/lib/junit-4.11.jar\":\"System Classpath\",\"/usr/lib/flume-ng/lib/flume-spillable-memory-channel.jar\":\"System Classpath\",\"/usr/lib/hive/lib/httpcore-4.2.5.jar\":\"System Classpath\",\"/usr/lib/hive/lib/derby-10.11.1.1.jar\":\"System Classpath\",\"/usr/lib/hadoop-mapreduce/lib/netty-3.6.2.Final.jar\":\"System Classpath\",\"/usr/lib/hadoop-mapreduce/jetty-6.1.26.cloudera.4.jar\":\"System Classpath\",\"/usr/lib/hive/lib/hive-jdbc.jar\":\"System Classpath\",\"/usr/lib/hadoop-mapreduce/hadoop-openstack.jar\":\"System Classpath\",\"/usr/lib/hive/lib/libthrift-0.9.2.jar\":\"System Classpath\",\"/usr/lib/hive/lib/hive-jdbc-1.1.0-cdh5.5.1-standalone.jar\":\"System Classpath\",\"/usr/lib/hadoop-mapreduce/commons-net-3.1.jar\":\"System Classpath\",\"/usr/lib/flume-ng/lib/httpclient-4.2.5.jar\":\"System Classpath\",\"/usr/lib/hive/lib/jta-1.1.jar\":\"System Classpath\",\"/usr/lib/flume-ng/lib/flume-hive-sink.jar\":\"System Classpath\",\"/usr/lib/flume-ng/lib/flume-ng-auth-1.6.0-cdh5.5.1.jar\":\"System Classpath\",\"/usr/lib/hadoop-mapreduce/lib/commons-io-2.4.jar\":\"System Classpath\",\"/usr/lib/flume-ng/lib/commons-lang-2.6.jar\":\"System Classpath\",\"/usr/lib/hive/lib/accumulo-trace-1.6.0.jar\":\"System Classpath\",\"/usr/lib/flume-ng/lib/irclib-1.10.jar\":\"System Classpath\",\"/usr/lib/hive/lib/hive-hbase-handler.jar\":\"System Classpath\",\"/usr/lib/hadoop-mapreduce/hadoop-extras.jar\":\"System Classpath\",\"/usr/lib/hive/lib/hive-shims-scheduler.jar\":\"System Classpath\",\"/usr/lib/flume-ng/lib/flume-ng-elasticsearch-sink-1.6.0-cdh5.5.1.jar\":\"System Classpath\",\"/usr/lib/hive/lib/plexus-utils-1.5.6.jar\":\"System Classpath\",\"/usr/lib/flume-ng/lib/protobuf-java-2.5.0.jar\":\"System Classpath\",\"/usr/lib/hadoop-mapreduce/hadoop-streaming.jar\":\"System Classpath\",\"/usr/lib/flume-ng/lib/flume-irc-sink-1.6.0-cdh5.5.1.jar\":\"System Classpath\",\"/usr/lib/hadoop/lib/asm-3.2.jar\":\"System Classpath\",\"/usr/lib/hive/lib/hive-contrib-1.1.0-cdh5.5.1.jar\":\"System Classpath\",\"/usr/lib/flume-ng/lib/kite-hadoop-compatibility.jar\":\"System Classpath\",\"/usr/lib/flume-ng/lib/flume-ng-hbase-sink-1.6.0-cdh5.5.1.jar\":\"System Classpath\",\"/usr/lib/flume-ng/lib/jackson-mapper-asl-1.8.8.jar\":\"System Classpath\",\"/usr/lib/hadoop-hdfs/lib/commons-codec-1.4.jar\":\"System Classpath\",\"/usr/lib/hadoop-yarn/lib/commons-lang-2.6.jar\":\"System Classpath\",\"/usr/lib/hive/lib/hive-hbase-handler-1.1.0-cdh5.5.1.jar\":\"System Classpath\",\"/usr/lib/hadoop-mapreduce/hadoop-gridmix-2.6.0-cdh5.5.1.jar\":\"System Classpath\",\"/usr/lib/hadoop-mapreduce/lib/jersey-server-1.9.jar\":\"System Classpath\",\"/usr/lib/hive/lib/bonecp-0.8.0.RELEASE.jar\":\"System Classpath\",\"/usr/lib/hadoop/lib/netty-3.6.2.Final.jar\":\"System Classpath\",\"/usr/lib/hive/lib/jpam-1.1.jar\":\"System Classpath\",\"/usr/lib/hadoop-mapreduce/hadoop-auth.jar\":\"System Classpath\",\"/usr/lib/flume-ng/lib/scala-library-2.10.4.jar\":\"System Classpath\",\"/usr/lib/hive/lib/commons-configuration-1.6.jar\":\"System Classpath\",\"/usr/lib/flume-ng/lib/flume-irc-sink.jar\":\"System Classpath\",\"/usr/lib/hive/lib/accumulo-fate-1.6.0.jar\":\"System Classpath\",\"/usr/lib/hive/lib/commons-pool-1.5.4.jar\":\"System Classpath\",\"/usr/lib/flume-ng/lib/apache-log4j-extras-1.1.jar\":\"System Classpath\",\"/usr/lib/hadoop/parquet-pig.jar\":\"System Classpath\",\"/usr/lib/hadoop-mapreduce/hadoop-streaming-2.6.0-cdh5.5.1.jar\":\"System Classpath\",\"/usr/lib/hadoop/lib/java-xmlbuilder-0.4.jar\":\"System Classpath\",\"/usr/lib/hadoop-mapreduce/jetty-util-6.1.26.cloudera.4.jar\":\"System Classpath\",\"/usr/lib/hadoop-mapreduce/curator-framework-2.7.1.jar\":\"System Classpath\",\"/usr/lib/hadoop-hdfs/lib/jersey-core-1.9.jar\":\"System Classpath\",\"/usr/lib/hadoop/parquet-scrooge_2.10.jar\":\"System Classpath\",\"/usr/lib/hadoop-yarn/lib/commons-compress-1.4.1.jar\":\"System Classpath\",\"/usr/lib/flume-ng/lib/mina-core-2.0.4.jar\":\"System Classpath\",\"/usr/lib/hive/lib/jersey-server-1.14.jar\":\"System Classpath\",\"/usr/lib/flume-ng/lib/flume-jms-source-1.6.0-cdh5.5.1.jar\":\"System Classpath\",\"/usr/lib/flume-ng/lib/flume-ng-log4jappender.jar\":\"System Classpath\",\"/usr/lib/flume-ng/lib/flume-taildir-source-1.6.0-cdh5.5.1.jar\":\"System Classpath\",\"/usr/lib/hadoop-mapreduce/jets3t-0.9.0.jar\":\"System Classpath\",\"/usr/lib/flume-ng/lib/opencsv-2.3.jar\":\"System Classpath\",\"/usr/lib/hadoop-mapreduce/java-xmlbuilder-0.4.jar\":\"System Classpath\",\"/usr/lib/flume-ng/lib/flume-hive-sink-1.6.0-cdh5.5.1.jar\":\"System Classpath\",\"/usr/lib/hadoop-yarn/hadoop-yarn-common-2.6.0-cdh5.5.1.jar\":\"System Classpath\",\"/usr/lib/flume-ng/lib/parquet-avro.jar\":\"System Classpath\",\"/usr/lib/flume-ng/lib/kafka_2.10-0.8.1.1.jar\":\"System Classpath\",\"/usr/lib/hadoop-mapreduce/hadoop-mapreduce-client-jobclient-2.6.0-cdh5.5.1.jar\":\"System Classpath\",\"/usr/lib/hive/lib/hive-ant.jar\":\"System Classpath\",\"/usr/lib/spark/lib/spark-assembly-1.5.0-cdh5.5.1-hadoop2.6.0-cdh5.5.1.jar\":\"System Classpath\",\"/usr/lib/hive/lib/paranamer-2.3.jar\":\"System Classpath\",\"/usr/lib/flume-ng/lib/flume-jms-source.jar\":\"System Classpath\",\"/usr/lib/hive/lib/snappy-java-1.0.4.1.jar\":\"System Classpath\",\"/usr/lib/hadoop/lib/api-asn1-api-1.0.0-M20.jar\":\"System Classpath\",\"/usr/lib/flume-ng/lib/flume-kafka-source-1.6.0-cdh5.5.1.jar\":\"System Classpath\",\"/usr/lib/hive/lib/guava-14.0.1.jar\":\"System Classpath\",\"/usr/lib/hadoop-mapreduce/hadoop-sls-2.6.0-cdh5.5.1.jar\":\"System Classpath\",\"/usr/lib/hive/lib/commons-compiler-2.7.6.jar\":\"System Classpath\",\"/usr/lib/hadoop-mapreduce/lib/hamcrest-core-1.3.jar\":\"System Classpath\",\"/usr/lib/hadoop-mapreduce/commons-io-2.4.jar\":\"System Classpath\",\"/usr/lib/flume-ng/lib/flume-ng-log4jappender-1.6.0-cdh5.5.1.jar\":\"System Classpath\",\"/usr/lib/hive/lib/jackson-jaxrs-1.9.2.jar\":\"System Classpath\",\"/etc/hadoop/conf/\":\"System Classpath\",\"/usr/lib/hadoop-mapreduce/hadoop-mapreduce-client-hs-plugins-2.6.0-cdh5.5.1.jar\":\"System Classpath\",\"/usr/lib/hive/lib/jetty-all-server-7.6.0.v20120127.jar\":\"System Classpath\",\"/usr/lib/hadoop-mapreduce/protobuf-java-2.5.0.jar\":\"System Classpath\",\"/usr/lib/hadoop/lib/stax-api-1.0-2.jar\":\"System Classpath\",\"/usr/lib/hadoop-mapreduce/commons-compress-1.4.1.jar\":\"System Classpath\",\"/usr/lib/flume-ng/lib/flume-ng-configuration-1.6.0-cdh5.5.1.jar\":\"System Classpath\",\"/usr/lib/hadoop-yarn/hadoop-yarn-server-common-2.6.0-cdh5.5.1.jar\":\"System Classpath\",\"/usr/lib/flume-ng/lib/flume-ng-hbase-sink.jar\":\"System Classpath\",\"/usr/lib/hadoop/hadoop-common-2.6.0-cdh5.5.1.jar\":\"System Classpath\",\"/usr/lib/hadoop/lib/slf4j-api-1.7.5.jar\":\"System Classpath\",\"/usr/lib/hive/lib/junit-4.11.jar\":\"System Classpath\",\"/usr/lib/hive/lib/hive-serde-1.1.0-cdh5.5.1.jar\":\"System Classpath\",\"/usr/lib/hadoop-mapreduce/htrace-core4-4.0.1-incubating.jar\":\"System Classpath\",\"/usr/lib/hadoop/parquet-cascading.jar\":\"System Classpath\",\"/usr/lib/hadoop-mapreduce/jackson-databind-2.2.3.jar\":\"System Classpath\",\"/usr/lib/hadoop-mapreduce/jaxb-api-2.2.2.jar\":\"System Classpath\",\"/usr/lib/hive/lib/jdo-api-3.0.1.jar\":\"System Classpath\",\"/usr/lib/hive/lib/datanucleus-rdbms-3.2.9.jar\":\"System Classpath\",\"/usr/lib/hive/lib/antlr-runtime-3.4.jar\":\"System Classpath\",\"/usr/lib/hive/lib/jetty-all-7.6.0.v20120127.jar\":\"System Classpath\",\"/usr/lib/hadoop-mapreduce/jackson-jaxrs-1.8.8.jar\":\"System Classpath\",\"/usr/lib/hadoop/lib/jersey-json-1.9.jar\":\"System Classpath\",\"/usr/lib/hadoop/lib/aws-java-sdk-1.7.4.jar\":\"System Classpath\",\"/usr/lib/hive/lib/hive-testutils.jar\":\"System Classpath\",\"/usr/lib/hadoop/lib/jettison-1.1.jar\":\"System Classpath\",\"/usr/lib/hadoop-yarn/hadoop-yarn-api-2.6.0-cdh5.5.1.jar\":\"System Classpath\",\"/usr/lib/hive/lib/commons-cli-1.2.jar\":\"System Classpath\",\"/usr/lib/flume-ng/lib/flume-spillable-memory-channel-1.6.0-cdh5.5.1.jar\":\"System Classpath\",\"/usr/lib/hadoop-mapreduce/hadoop-mapreduce-client-nativetask-2.6.0-cdh5.5.1.jar\":\"System Classpath\",\"/usr/lib/flume-ng/lib/flume-ng-embedded-agent.jar\":\"System Classpath\",\"/usr/lib/hadoop-mapreduce/hadoop-datajoin.jar\":\"System Classpath\",\"/usr/lib/hadoop-mapreduce/lib/avro.jar\":\"System Classpath\",\"/usr/lib/hadoop-hdfs/lib/commons-logging-1.1.3.jar\":\"System Classpath\",\"/usr/lib/hadoop/parquet-column.jar\":\"System Classpath\",\"/usr/lib/hadoop-yarn/hadoop-yarn-server-web-proxy-2.6.0-cdh5.5.1.jar\":\"System Classpath\",\"/usr/lib/hadoop-hdfs/lib/jsp-api-2.1.jar\":\"System Classpath\",\"/usr/lib/hadoop-hdfs/lib/protobuf-java-2.5.0.jar\":\"System Classpath\",\"/usr/lib/hadoop-mapreduce/commons-collections-3.2.2.jar\":\"System Classpath\",\"/usr/lib/hive/lib/hive-beeline-1.1.0-cdh5.5.1.jar\":\"System Classpath\",\"/usr/lib/hadoop-mapreduce/hadoop-mapreduce-client-jobclient.jar\":\"System Classpath\",\"/usr/lib/hadoop-mapreduce/lib/jersey-core-1.9.jar\":\"System Classpath\",\"/usr/lib/hadoop-yarn/lib/log4j-1.2.17.jar\":\"System Classpath\",\"/usr/lib/flume-ng/lib/flume-ng-elasticsearch-sink.jar\":\"System Classpath\",\"/usr/lib/flume-ng/lib/parquet-common.jar\":\"System Classpath\",\"/usr/lib/hadoop-mapreduce/commons-digester-1.8.jar\":\"System Classpath\",\"/usr/lib/hive/lib/commons-compress-1.4.1.jar\":\"System Classpath\",\"/usr/lib/hadoop/lib/commons-compress-1.4.1.jar\":\"System Classpath\",\"/usr/lib/hadoop-yarn/lib/guice-servlet-3.0.jar\":\"System Classpath\",\"/usr/lib/hadoop-mapreduce/api-asn1-api-1.0.0-M20.jar\":\"System Classpath\",\"/usr/lib/hadoop/lib/commons-net-3.1.jar\":\"System Classpath\",\"/usr/lib/hadoop/lib/commons-beanutils-core-1.8.0.jar\":\"System Classpath\",\"/usr/lib/hadoop/lib/logredactor-1.0.3.jar\":\"System Classpath\",\"/usr/lib/hadoop/parquet-format.jar\":\"System Classpath\",\"/usr/lib/hadoop-mapreduce/lib/jackson-core-asl-1.8.8.jar\":\"System Classpath\",\"/usr/lib/hadoop-mapreduce/hadoop-mapreduce-client-app-2.6.0-cdh5.5.1.jar\":\"System Classpath\",\"/usr/lib/hive/lib/velocity-1.5.jar\":\"System Classpath\",\"/usr/lib/flume-ng/lib/flume-ng-embedded-agent-1.6.0-cdh5.5.1.jar\":\"System Classpath\",\"/usr/lib/hadoop/hadoop-streaming.jar\":\"System Classpath\",\"/usr/lib/flume-ng/lib/flume-scribe-source-1.6.0-cdh5.5.1.jar\":\"System Classpath\",\"/usr/lib/hive/lib/tempus-fugit-1.1.jar\":\"System Classpath\",\"/usr/lib/hadoop/lib/jsr305-3.0.0.jar\":\"System Classpath\",\"/usr/lib/hive/lib/antlr-2.7.7.jar\":\"System Classpath\",\"/usr/lib/hadoop/lib/htrace-core4-4.0.1-incubating.jar\":\"System Classpath\",\"/usr/lib/hive/lib/libfb303-0.9.2.jar\":\"System Classpath\",\"/usr/lib/hadoop-mapreduce/hadoop-mapreduce-examples.jar\":\"System Classpath\",\"/usr/lib/hadoop-hdfs/hadoop-hdfs-tests.jar\":\"System Classpath\",\"/usr/lib/flume-ng/lib/unused-1.0.0.jar\":\"System Classpath\",\"/usr/lib/hadoop-hdfs/lib/xml-apis-1.3.04.jar\":\"System Classpath\",\"/usr/lib/flume-ng/lib/joda-time-2.1.jar\":\"System Classpath\",\"/usr/lib/hadoop-mapreduce/hadoop-mapreduce-client-hs.jar\":\"System Classpath\",\"/usr/lib/hadoop-hdfs/hadoop-hdfs-2.6.0-cdh5.5.1.jar\":\"System Classpath\",\"/usr/lib/hadoop-mapreduce/hadoop-mapreduce-client-jobclient-2.6.0-cdh5.5.1-tests.jar\":\"System Classpath\",\"/usr/lib/hive/lib/commons-digester-1.8.jar\":\"System Classpath\",\"/usr/lib/flume-ng/lib/velocity-1.7.jar\":\"System Classpath\",\"/usr/lib/hadoop-mapreduce/jsp-api-2.1.jar\":\"System Classpath\",\"/usr/lib/hadoop-mapreduce/lib/javax.inject-1.jar\":\"System Classpath\",\"/usr/lib/hive/lib/hive-cli-1.1.0-cdh5.5.1.jar\":\"System Classpath\",\"/usr/lib/flume-ng/lib/jackson-databind-2.3.1.jar\":\"System Classpath\",\"/usr/lib/hadoop-hdfs/lib/netty-3.6.2.Final.jar\":\"System Classpath\",\"/usr/lib/hive/lib/gson-2.2.4.jar\":\"System Classpath\",\"/usr/lib/flume-ng/lib/flume-dataset-sink.jar\":\"System Classpath\",\"/usr/lib/hive/lib/super-csv-2.2.0.jar\":\"System Classpath\",\"/usr/lib/hadoop-mapreduce/lib/xz-1.0.jar\":\"System Classpath\",\"/usr/lib/hadoop/parquet-format-javadoc.jar\":\"System Classpath\",\"/usr/lib/hive/lib/commons-math-2.1.jar\":\"System Classpath\",\"/usr/lib/hadoop-yarn/lib/jersey-client-1.9.jar\":\"System Classpath\",\"/usr/lib/hadoop-mapreduce/zookeeper.jar\":\"System Classpath\",\"/usr/lib/flume-ng/lib/flume-ng-core-1.6.0-cdh5.5.1.jar\":\"System Classpath\",\"/usr/lib/hive/lib/hive-accumulo-handler.jar\":\"System Classpath\",\"/usr/lib/hive/lib/jackson-core-2.2.2.jar\":\"System Classpath\",\"/usr/lib/hadoop-hdfs/lib/leveldbjni-all-1.8.jar\":\"System Classpath\",\"/usr/lib/hadoop-mapreduce/hadoop-mapreduce-client-core.jar\":\"System Classpath\",\"/usr/lib/hive/lib/jackson-annotations-2.2.2.jar\":\"System Classpath\",\"/usr/lib/hive/lib/metrics-json-3.0.2.jar\":\"System Classpath\",\"/usr/lib/flume-ng/lib/flume-ng-node-1.6.0-cdh5.5.1.jar\":\"System Classpath\",\"/usr/lib/flume-ng/lib/commons-logging-1.1.3.jar\":\"System Classpath\",\"/usr/lib/hadoop/lib/jetty-util-6.1.26.cloudera.4.jar\":\"System Classpath\",\"/usr/lib/hive/lib/accumulo-start-1.6.0.jar\":\"System Classpath\",\"/usr/lib/hadoop-yarn/lib/jersey-guice-1.9.jar\":\"System Classpath\",\"/usr/lib/hive/lib/oro-2.0.8.jar\":\"System Classpath\",\"/usr/lib/hadoop/parquet-common.jar\":\"System Classpath\",\"/usr/lib/hadoop-yarn/hadoop-yarn-server-nodemanager-2.6.0-cdh5.5.1.jar\":\"System Classpath\",\"/usr/lib/hadoop/lib/commons-io-2.4.jar\":\"System Classpath\",\"/usr/lib/hive/lib/hive-testutils-1.1.0-cdh5.5.1.jar\":\"System Classpath\",\"/usr/lib/hadoop/lib/jets3t-0.9.0.jar\":\"System Classpath\",\"/usr/lib/hadoop-hdfs/lib/commons-lang-2.6.jar\":\"System Classpath\",\"/usr/lib/hadoop-mapreduce/hadoop-ant.jar\":\"System Classpath\",\"/usr/lib/hadoop/lib/commons-logging-1.1.3.jar\":\"System Classpath\",\"/usr/lib/hadoop-yarn/lib/jetty-util-6.1.26.cloudera.4.jar\":\"System Classpath\",\"/usr/lib/hadoop-hdfs/lib/commons-el-1.0.jar\":\"System Classpath\",\"/usr/lib/hive/lib/jline-2.12.jar\":\"System Classpath\",\"/usr/lib/hive/lib/pentaho-aggdesigner-algorithm-5.1.5-jhyde.jar\":\"System Classpath\",\"/usr/lib/hadoop-hdfs/lib/jackson-mapper-asl-1.8.8.jar\":\"System Classpath\",\"/usr/lib/hadoop-mapreduce/lib/commons-compress-1.4.1.jar\":\"System Classpath\",\"/usr/lib/flume-ng/lib/flume-ng-sdk.jar\":\"System Classpath\",\"/usr/lib/flume-ng/lib/commons-compress-1.4.1.jar\":\"System Classpath\",\"/usr/lib/hadoop-yarn/hadoop-yarn-registry.jar\":\"System Classpath\",\"/usr/lib/hadoop/parquet-scala_2.10.jar\":\"System Classpath\",\"/usr/lib/hadoop-yarn/hadoop-yarn-registry-2.6.0-cdh5.5.1.jar\":\"System Classpath\",\"/usr/lib/hive/lib/datanucleus-core-3.2.10.jar\":\"System Classpath\",\"/usr/lib/hive/lib/jcommander-1.32.jar\":\"System Classpath\",\"/usr/lib/hive/lib/commons-vfs2-2.0.jar\":\"System Classpath\",\"/usr/lib/hive/lib/maven-scm-api-1.4.jar\":\"System Classpath\",\"/usr/lib/flume-ng/lib/jopt-simple-3.2.jar\":\"System Classpath\",\"/usr/lib/hadoop-mapreduce/hadoop-mapreduce-client-shuffle-2.6.0-cdh5.5.1.jar\":\"System Classpath\",\"/usr/lib/hadoop-mapreduce/jaxb-impl-2.2.3-1.jar\":\"System Classpath\",\"/usr/lib/hive/lib/calcite-core-1.0.0-incubating.jar\":\"System Classpath\",\"/usr/lib/hive/lib/hive-service.jar\":\"System Classpath\",\"/usr/lib/hadoop/lib/hamcrest-core-1.3.jar\":\"System Classpath\",\"/usr/lib/hadoop/lib/httpclient-4.2.5.jar\":\"System Classpath\",\"/usr/lib/hadoop-mapreduce/hadoop-mapreduce-client-hs-2.6.0-cdh5.5.1.jar\":\"System Classpath\",\"/usr/lib/hadoop-yarn/hadoop-yarn-applications-distributedshell.jar\":\"System Classpath\",\"/usr/lib/hadoop/lib/curator-framework-2.7.1.jar\":\"System Classpath\",\"/usr/lib/flume-ng/lib/twitter4j-media-support-3.0.3.jar\":\"System Classpath\",\"/usr/lib/hadoop-yarn/lib/jersey-server-1.9.jar\":\"System Classpath\",\"/usr/lib/hadoop-mapreduce/hadoop-mapreduce-client-common.jar\":\"System Classpath\",\"/usr/lib/flume-ng/lib/flume-avro-source-1.6.0-cdh5.5.1.jar\":\"System Classpath\",\"/usr/lib/flume-ng/lib/flume-taildir-source.jar\":\"System Classpath\",\"/usr/lib/flume-ng/lib/flume-ng-sdk-1.6.0-cdh5.5.1.jar\":\"System Classpath\",\"/usr/lib/hadoop/hadoop-auth.jar\":\"System Classpath\",\"/usr/lib/flume-ng/lib/commons-collections-3.2.2.jar\":\"System Classpath\",\"/usr/lib/hive/lib/geronimo-jta_1.1_spec-1.1.1.jar\":\"System Classpath\",\"/usr/lib/avro/lib/*\":\"System Classpath\",\"/usr/lib/hadoop/hadoop-common-tests.jar\":\"System Classpath\",\"/usr/lib/hadoop/hadoop-common-2.6.0-cdh5.5.1-tests.jar\":\"System Classpath\",\"/usr/lib/hadoop-mapreduce/jackson-mapper-asl-1.8.8.jar\":\"System Classpath\",\"/usr/lib/hadoop-yarn/lib/activation-1.1.jar\":\"System Classpath\",\"/usr/lib/hadoop-mapreduce/hadoop-archives.jar\":\"System Classpath\",\"/usr/lib/hadoop-yarn/lib/jetty-6.1.26.cloudera.4.jar\":\"System Classpath\",\"/usr/lib/flume-ng/lib/flume-tools-1.6.0-cdh5.5.1.jar\":\"System Classpath\",\"/usr/lib/hadoop/hadoop-nfs.jar\":\"System Classpath\",\"/usr/lib/hadoop-mapreduce/commons-configuration-1.6.jar\":\"System Classpath\",\"/usr/lib/hive/lib/jsr305-3.0.0.jar\":\"System Classpath\",\"/usr/lib/hadoop-hdfs/lib/jsr305-3.0.0.jar\":\"System Classpath\",\"/usr/lib/hadoop/hadoop-aws-2.6.0-cdh5.5.1.jar\":\"System Classpath\",\"/usr/lib/flume-ng/lib/flume-file-channel-1.6.0-cdh5.5.1.jar\":\"System Classpath\",\"/usr/lib/hadoop-mapreduce/hadoop-ant-2.6.0-cdh5.5.1.jar\":\"System Classpath\",\"/usr/lib/flume-ng/lib/kite-data-hbase.jar\":\"System Classpath\",\"/usr/lib/hadoop/parquet-protobuf.jar\":\"System Classpath\",\"/usr/lib/flume-ng/lib/guava-11.0.2.jar\":\"System Classpath\",\"/usr/lib/hive/lib/commons-lang-2.6.jar\":\"System Classpath\",\"/usr/lib/hadoop-mapreduce/hadoop-archives-2.6.0-cdh5.5.1.jar\":\"System Classpath\",\"/usr/lib/hadoop/lib/xmlenc-0.52.jar\":\"System Classpath\",\"/usr/lib/hadoop-mapreduce/jersey-server-1.9.jar\":\"System Classpath\",\"/usr/lib/hadoop/hadoop-nfs-2.6.0-cdh5.5.1.jar\":\"System Classpath\",\"/usr/lib/hadoop-yarn/hadoop-yarn-client.jar\":\"System Classpath\",\"/usr/lib/hadoop-yarn/lib/protobuf-java-2.5.0.jar\":\"System Classpath\",\"/usr/lib/hadoop/lib/paranamer-2.3.jar\":\"System Classpath\",\"/usr/lib/flume-ng/lib/parquet-encoding.jar\":\"System Classpath\",\"/usr/lib/hadoop-mapreduce/hadoop-extras-2.6.0-cdh5.5.1.jar\":\"System Classpath\",\"/usr/lib/hadoop/lib/jasper-compiler-5.5.23.jar\":\"System Classpath\",\"/usr/lib/hadoop-yarn/lib/jaxb-impl-2.2.3-1.jar\":\"System Classpath\",\"/usr/lib/hadoop-mapreduce/commons-httpclient-3.1.jar\":\"System Classpath\",\"/usr/lib/hadoop-mapreduce/junit-4.11.jar\":\"System Classpath\",\"/usr/lib/hive/lib/datanucleus-api-jdo-3.2.6.jar\":\"System Classpath\",\"/usr/lib/hadoop/lib/activation-1.1.jar\":\"System Classpath\",\"/usr/lib/hadoop-yarn/hadoop-yarn-server-resourcemanager.jar\":\"System Classpath\",\"/usr/lib/hadoop-yarn/lib/jsr305-3.0.0.jar\":\"System Classpath\",\"/usr/lib/hadoop-mapreduce/jsr305-3.0.0.jar\":\"System Classpath\",\"/usr/lib/hadoop/lib/commons-beanutils-1.7.0.jar\":\"System Classpath\",\"/usr/lib/hive/lib/groovy-all-2.4.4.jar\":\"System Classpath\",\"/usr/lib/hadoop-yarn/hadoop-yarn-applications-distributedshell-2.6.0-cdh5.5.1.jar\":\"System Classpath\",\"/usr/lib/hive/lib/ant-launcher-1.9.1.jar\":\"System Classpath\",\"/usr/lib/flume-ng/lib/spark-streaming-flume-sink.jar\":\"System Classpath\",\"/usr/lib/hive/lib/stax-api-1.0.1.jar\":\"System Classpath\",\"/usr/lib/hadoop-yarn/hadoop-yarn-common.jar\":\"System Classpath\",\"/usr/lib/hadoop-yarn/hadoop-yarn-applications-unmanaged-am-launcher-2.6.0-cdh5.5.1.jar\":\"System Classpath\",\"/usr/lib/hive/lib/hive-hwi-1.1.0-cdh5.5.1.jar\":\"System Classpath\",\"/usr/lib/hadoop-mapreduce/xmlenc-0.52.jar\":\"System Classpath\",\"/usr/lib/hadoop-mapreduce/hadoop-gridmix.jar\":\"System Classpath\",\"/usr/lib/hadoop-mapreduce/lib/asm-3.2.jar\":\"System Classpath\",\"/usr/lib/hive/lib/regexp-1.3.jar\":\"System Classpath\",\"/usr/lib/flume-ng/lib/commons-codec-1.8.jar\":\"System Classpath\",\"/usr/lib/flume-ng/lib/paranamer-2.3.jar\":\"System Classpath\",\"/usr/lib/hadoop-yarn/lib/asm-3.2.jar\":\"System Classpath\",\"/usr/lib/hadoop-yarn/hadoop-yarn-server-tests-2.6.0-cdh5.5.1.jar\":\"System Classpath\",\"/usr/lib/flume-ng/lib/parquet-hadoop.jar\":\"System Classpath\",\"/usr/lib/flume-ng/lib/commons-dbcp-1.4.jar\":\"System Classpath\",\"/usr/lib/hive/lib/hive-service-1.1.0-cdh5.5.1.jar\":\"System Classpath\",\"/usr/lib/hadoop-mapreduce/jersey-core-1.9.jar\":\"System Classpath\",\"/usr/lib/hadoop/lib/commons-configuration-1.6.jar\":\"System Classpath\",\"/usr/lib/flume-ng/lib/jackson-core-2.3.1.jar\":\"System Classpath\",\"/usr/lib/hadoop/parquet-generator.jar\":\"System Classpath\",\"/usr/lib/hadoop-mapreduce/commons-lang-2.6.jar\":\"System Classpath\",\"/usr/lib/hadoop/lib/slf4j-log4j12.jar\":\"System Classpath\",\"/usr/lib/hive/lib/curator-client-2.6.0.jar\":\"System Classpath\",\"/usr/lib/hadoop-hdfs/lib/xercesImpl-2.9.1.jar\":\"System Classpath\",\"/usr/lib/hadoop-hdfs/lib/jetty-6.1.26.cloudera.4.jar\":\"System Classpath\",\"/usr/lib/hadoop-mapreduce/hadoop-mapreduce-client-common-2.6.0-cdh5.5.1.jar\":\"System Classpath\",\"/usr/lib/hadoop-hdfs/hadoop-hdfs-2.6.0-cdh5.5.1-tests.jar\":\"System Classpath\",\"/usr/lib/hadoop-hdfs/hadoop-hdfs-nfs-2.6.0-cdh5.5.1.jar\":\"System Classpath\",\"/usr/lib/flume-ng/lib/avro.jar\":\"System Classpath\",\"/usr/lib/spark/lib/spark-assembly.jar\":\"System Classpath\",\"/usr/lib/hadoop/hadoop-common.jar\":\"System Classpath\",\"/usr/lib/hadoop-mapreduce/hadoop-distcp.jar\":\"System Classpath\",\"/usr/lib/hadoop-yarn/lib/jackson-mapper-asl-1.8.8.jar\":\"System Classpath\",\"/usr/lib/flume-ng/lib/async-1.4.0.jar\":\"System Classpath\",\"/usr/lib/hadoop/lib/jaxb-impl-2.2.3-1.jar\":\"System Classpath\",\"/usr/lib/flume-ng/lib/curator-framework-2.6.0.jar\":\"System Classpath\",\"/usr/lib/flume-ng/lib/slf4j-api-1.7.5.jar\":\"System Classpath\",\"/usr/lib/hadoop-yarn/lib/servlet-api-2.5.jar\":\"System Classpath\",\"/usr/lib/hive/lib/calcite-avatica-1.0.0-incubating.jar\":\"System Classpath\",\"/usr/lib/flume-ng/lib/jetty-6.1.26.cloudera.4.jar\":\"System Classpath\",\"/usr/lib/hive/lib/maven-scm-provider-svnexe-1.4.jar\":\"System Classpath\",\"/usr/lib/hadoop/lib/jetty-6.1.26.cloudera.4.jar\":\"System Classpath\",\"/usr/lib/hive/lib/calcite-linq4j-1.0.0-incubating.jar\":\"System Classpath\",\"/usr/lib/hadoop/parquet-pig-bundle.jar\":\"System Classpath\",\"/usr/lib/hadoop/lib/snappy-java-1.0.4.1.jar\":\"System Classpath\",\"/usr/lib/flume-ng/lib/jackson-core-asl-1.8.8.jar\":\"System Classpath\",\"/usr/lib/hive/lib/geronimo-annotation_1.0_spec-1.1.1.jar\":\"System Classpath\",\"/usr/lib/flume-ng/lib/avro-ipc.jar\":\"System Classpath\",\"/usr/lib/hadoop-mapreduce/hadoop-mapreduce-client-jobclient-tests.jar\":\"System Classpath\",\"/usr/lib/hive/lib/accumulo-core-1.6.0.jar\":\"System Classpath\",\"/usr/lib/hadoop/lib/log4j-1.2.17.jar\":\"System Classpath\",\"/usr/lib/hadoop-mapreduce/hadoop-mapreduce-client-app.jar\":\"System Classpath\",\"/usr/lib/hadoop/lib/curator-client-2.7.1.jar\":\"System Classpath\",\"/usr/lib/hadoop-mapreduce/commons-math3-3.1.1.jar\":\"System Classpath\",\"/usr/lib/hadoop-hdfs/lib/guava-11.0.2.jar\":\"System Classpath\",\"/usr/lib/flume-ng/lib/commons-pool-1.5.4.jar\":\"System Classpath\",\"/usr/lib/hadoop-mapreduce/asm-3.2.jar\":\"System Classpath\",\"/usr/lib/hadoop-mapreduce/stax-api-1.0-2.jar\":\"System Classpath\",\"/usr/lib/hive/lib/hive-serde.jar\":\"System Classpath\",\"/usr/lib/flume-ng/lib/derby-10.11.1.1.jar\":\"System Classpath\",\"/usr/lib/flume-ng/lib/flume-hdfs-sink-1.6.0-cdh5.5.1.jar\":\"System Classpath\",\"/usr/lib/hive/lib/metrics-jvm-3.0.2.jar\":\"System Classpath\",\"/usr/lib/hive/lib/activation-1.1.jar\":\"System Classpath\",\"/usr/lib/hive/lib/maven-scm-provider-svn-commons-1.4.jar\":\"System Classpath\",\"/usr/lib/hive/lib/logredactor-1.0.3.jar\":\"System Classpath\",\"/usr/lib/hadoop-yarn/lib/guava-11.0.2.jar\":\"System Classpath\",\"/usr/lib/flume-ng/lib/asynchbase-1.5.0.jar\":\"System Classpath\",\"/usr/lib/hive/lib/commons-logging-1.1.3.jar\":\"System Classpath\",\"/usr/lib/hive/lib/hive-cli.jar\":\"System Classpath\",\"/usr/lib/hadoop-mapreduce/jackson-xc-1.8.8.jar\":\"System Classpath\",\"/usr/lib/hadoop/parquet-jackson.jar\":\"System Classpath\",\"/usr/lib/flume-ng/lib/metrics-core-2.2.0.jar\":\"System Classpath\",\"/usr/lib/hive/lib/hive-jdbc-1.1.0-cdh5.5.1.jar\":\"System Classpath\",\"/usr/lib/hadoop-mapreduce/lib/snappy-java-1.0.4.1.jar\":\"System Classpath\",\"/usr/lib/flume-ng/lib/flume-ng-kafka-sink-1.6.0-cdh5.5.1.jar\":\"System Classpath\",\"/usr/lib/hadoop-yarn/hadoop-yarn-server-applicationhistoryservice-2.6.0-cdh5.5.1.jar\":\"System Classpath\",\"/usr/lib/flume-ng/lib/parquet-column.jar\":\"System Classpath\",\"/usr/lib/hadoop-mapreduce/apacheds-kerberos-codec-2.0.0-M15.jar\":\"System Classpath\",\"/usr/lib/flume-ng/lib/jetty-util-6.1.26.cloudera.4.jar\":\"System Classpath\",\"/usr/lib/flume-ng/lib/libthrift-0.9.2.jar\":\"System Classpath\",\"/usr/lib/hadoop/lib/xz-1.0.jar\":\"System Classpath\",\"/usr/lib/flume-ng/lib/jsr305-1.3.9.jar\":\"System Classpath\",\"/usr/lib/hadoop/parquet-encoding.jar\":\"System Classpath\",\"/usr/lib/flume-ng/lib/fastutil-6.3.jar\":\"System Classpath\",\"/usr/lib/hadoop-hdfs/hadoop-hdfs.jar\":\"System Classpath\",\"/usr/lib/hive/lib/commons-beanutils-1.7.0.jar\":\"System Classpath\",\"/usr/lib/hadoop/lib/jersey-server-1.9.jar\":\"System Classpath\",\"/usr/lib/hadoop-mapreduce/lib/paranamer-2.3.jar\":\"System Classpath\",\"/usr/lib/hive/lib/janino-2.7.6.jar\":\"System Classpath\",\"/usr/lib/hadoop-mapreduce/hadoop-mapreduce-client-nativetask.jar\":\"System Classpath\",\"/usr/lib/hive/lib/hive-common-1.1.0-cdh5.5.1.jar\":\"System Classpath\",\"/usr/lib/hive/lib/avro.jar\":\"System Classpath\",\"/usr/lib/hadoop/lib/avro.jar\":\"System Classpath\",\"/usr/lib/hadoop-mapreduce/lib/protobuf-java-2.5.0.jar\":\"System Classpath\",\"/usr/lib/hadoop-mapreduce/api-util-1.0.0-M20.jar\":\"System Classpath\",\"/usr/lib/hadoop-yarn/lib/commons-io-2.4.jar\":\"System Classpath\",\"/usr/lib/hadoop-yarn/lib/spark-1.5.0-cdh5.5.1-yarn-shuffle.jar\":\"System Classpath\",\"/usr/lib/hadoop/lib/commons-lang-2.6.jar\":\"System Classpath\",\"/usr/lib/flume-ng/lib/flume-file-channel.jar\":\"System Classpath\",\"/usr/lib/flume-ng/lib/spark-streaming-flume-sink_2.10-1.5.0-cdh5.5.1.jar\":\"System Classpath\",\"/usr/lib/hadoop/parquet-hadoop.jar\":\"System Classpath\",\"/usr/lib/hadoop/parquet-hadoop-bundle.jar\":\"System Classpath\",\"/usr/lib/hadoop-mapreduce/hadoop-distcp-2.6.0-cdh5.5.1.jar\":\"System Classpath\",\"/usr/lib/flume-ng/lib/flume-avro-source.jar\":\"System Classpath\",\"/usr/lib/hadoop-mapreduce/lib/aopalliance-1.0.jar\":\"System Classpath\",\"/usr/lib/hive/lib/hive-shims-0.23-1.1.0-cdh5.5.1.jar\":\"System Classpath\",\"/usr/lib/flume-ng/lib/flume-twitter-source-1.6.0-cdh5.5.1.jar\":\"System Classpath\",\"/usr/lib/flume-ng/lib/flume-kafka-source.jar\":\"System Classpath\",\"/usr/lib/hadoop-mapreduce/jersey-json-1.9.jar\":\"System Classpath\",\"/usr/lib/hadoop/lib/commons-collections-3.2.2.jar\":\"System Classpath\",\"/usr/lib/hadoop-hdfs/hadoop-hdfs-nfs.jar\":\"System Classpath\",\"/usr/lib/hive/lib/hive-shims-common.jar\":\"System Classpath\",\"/usr/lib/flume-ng/lib/xercesImpl-2.9.1.jar\":\"System Classpath\",\"/usr/lib/hadoop-mapreduce/commons-codec-1.4.jar\":\"System Classpath\",\"/usr/lib/flume-ng/lib/flume-tools.jar\":\"System Classpath\",\"/usr/lib/hadoop-mapreduce/guava-11.0.2.jar\":\"System Classpath\",\"/usr/lib/hadoop-mapreduce/log4j-1.2.17.jar\":\"System Classpath\",\"/usr/lib/flume-ng/lib/snappy-java-1.0.4.1.jar\":\"System Classpath\",\"/usr/lib/hadoop/lib/guava-11.0.2.jar\":\"System Classpath\",\"/usr/lib/hadoop/hadoop-auth-2.6.0-cdh5.5.1.jar\":\"System Classpath\",\"/usr/lib/hive/lib/stringtemplate-3.2.1.jar\":\"System Classpath\",\"/usr/lib/flume-ng/lib/flume-kafka-channel.jar\":\"System Classpath\",\"/usr/lib/hive/lib/opencsv-2.3.jar\":\"System Classpath\",\"/usr/lib/flume-ng/lib/parquet-format.jar\":\"System Classpath\",\"/usr/lib/hive/lib/geronimo-jaspic_1.0_spec-1.0.jar\":\"System Classpath\",\"/usr/lib/hadoop-yarn/lib/javax.inject-1.jar\":\"System Classpath\",\"/usr/lib/flume-ng/lib/netty-3.6.2.Final.jar\":\"System Classpath\",\"/usr/lib/hive/lib/asm-tree-3.1.jar\":\"System Classpath\",\"/usr/lib/flume-ng/lib/xz-1.0.jar\":\"System Classpath\",\"/usr/lib/hadoop/lib/servlet-api-2.5.jar\":\"System Classpath\",\"/usr/lib/hadoop-hdfs/lib/commons-daemon-1.0.13.jar\":\"System Classpath\",\"/usr/lib/hive/lib/metrics-core-3.0.2.jar\":\"System Classpath\",\"/usr/lib/hadoop-mapreduce/commons-el-1.0.jar\":\"System Classpath\",\"/usr/lib/hadoop-mapreduce/xz-1.0.jar\":\"System Classpath\",\"/usr/lib/flume-ng/lib/flume-scribe-source.jar\":\"System Classpath\",\"/usr/lib/hadoop/lib/curator-recipes-2.7.1.jar\":\"System Classpath\",\"/usr/lib/hadoop/hadoop-aws.jar\":\"System Classpath\",\"/usr/lib/hive/lib/commons-beanutils-core-1.8.0.jar\":\"System Classpath\",\"/usr/lib/hadoop-mapreduce/lib/guice-3.0.jar\":\"System Classpath\",\"/usr/lib/hadoop-mapreduce/hadoop-mapreduce-client-core-2.6.0-cdh5.5.1.jar\":\"System Classpath\",\"/usr/lib/flume-ng/lib/commons-jexl-2.1.1.jar\":\"System Classpath\",\"/usr/lib/hadoop-mapreduce/httpclient-4.2.5.jar\":\"System Classpath\",\"/usr/lib/hive/lib/xz-1.0.jar\":\"System Classpath\",\"/usr/lib/hadoop-yarn/lib/commons-logging-1.1.3.jar\":\"System Classpath\",\"/usr/lib/flume-ng/lib/parquet-jackson.jar\":\"System Classpath\",\"/usr/lib/hadoop/lib/jackson-mapper-asl-1.8.8.jar\":\"System Classpath\",\"/usr/lib/flume-ng/lib/kite-data-core.jar\":\"System Classpath\",\"/usr/lib/hive/lib/jersey-servlet-1.14.jar\":\"System Classpath\",\"/usr/lib/hadoop-yarn/lib/zookeeper.jar\":\"System Classpath\",\"/usr/lib/hadoop-yarn/lib/guice-3.0.jar\":\"System Classpath\",\"/usr/lib/hadoop-yarn/lib/commons-httpclient-3.1.jar\":\"System Classpath\",\"/usr/lib/flume-ng/lib/flume-hdfs-sink.jar\":\"System Classpath\",\"/usr/lib/flume-ng/lib/flume-ng-morphline-solr-sink.jar\":\"System Classpath\",\"/usr/lib/hadoop-hdfs/lib/servlet-api-2.5.jar\":\"System Classpath\",\"/usr/lib/hadoop/lib/commons-math3-3.1.1.jar\":\"System Classpath\",\"/usr/lib/flume-ng/lib/gson-2.2.4.jar\":\"System Classpath\",\"/usr/lib/hadoop/lib/jasper-runtime-5.5.23.jar\":\"System Classpath\",\"/usr/lib/hadoop-mapreduce/hadoop-auth-2.6.0-cdh5.5.1.jar\":\"System Classpath\",\"/usr/lib/hadoop/lib/commons-codec-1.4.jar\":\"System Classpath\",\"/usr/lib/hive/lib/parquet-hadoop-bundle.jar\":\"System Classpath\",\"/usr/lib/flume-ng/lib/log4j-1.2.17.jar\":\"System Classpath\",\"/usr/lib/hadoop-yarn/lib/jettison-1.1.jar\":\"System Classpath\",\"/usr/lib/flume-ng/lib/flume-jdbc-channel-1.6.0-cdh5.5.1.jar\":\"System Classpath\",\"/usr/lib/hadoop-mapreduce/hadoop-mapreduce-examples-2.6.0-cdh5.5.1.jar\":\"System Classpath\",\"/usr/lib/hadoop-mapreduce/curator-client-2.7.1.jar\":\"System Classpath\",\"/usr/lib/flume-ng/lib/commons-cli-1.2.jar\":\"System Classpath\",\"/usr/lib/hadoop-mapreduce/gson-2.2.4.jar\":\"System Classpath\",\"/usr/lib/hadoop/parquet-format-sources.jar\":\"System Classpath\",\"/usr/lib/flume-ng/lib/curator-recipes-2.6.0.jar\":\"System Classpath\",\"/usr/lib/hadoop/hadoop-annotations-2.6.0-cdh5.5.1.jar\":\"System Classpath\",\"/usr/lib/hadoop-yarn/lib/spark-yarn-shuffle.jar\":\"System Classpath\",\"/usr/lib/hadoop-hdfs/lib/jersey-server-1.9.jar\":\"System Classpath\",\"/usr/lib/hive/lib/hive-shims-scheduler-1.1.0-cdh5.5.1.jar\":\"System Classpath\",\"/usr/lib/hive/lib/commons-codec-1.4.jar\":\"System Classpath\",\"/usr/lib/hadoop-yarn/lib/commons-codec-1.4.jar\":\"System Classpath\",\"/usr/lib/flume-ng/lib/flume-dataset-sink-1.6.0-cdh5.5.1.jar\":\"System Classpath\",\"/usr/lib/flume-ng/lib/mapdb-0.9.9.jar\":\"System Classpath\",\"/usr/lib/hadoop-mapreduce/jackson-core-asl-1.8.8.jar\":\"System Classpath\",\"/usr/lib/hadoop-mapreduce/jsch-0.1.42.jar\":\"System Classpath\",\"/usr/lib/hadoop/parquet-test-hadoop2.jar\":\"System Classpath\",\"/usr/lib/hadoop-mapreduce/jasper-compiler-5.5.23.jar\":\"System Classpath\",\"/usr/lib/hadoop/lib/jackson-core-asl-1.8.8.jar\":\"System Classpath\",\"/usr/lib/hive/lib/hive-hwi.jar\":\"System Classpath\",\"/usr/lib/hive/lib/high-scale-lib-1.1.1.jar\":\"System Classpath\",\"/usr/lib/hadoop-mapreduce/jackson-core-2.2.3.jar\":\"System Classpath\",\"/usr/lib/hadoop/lib/jersey-core-1.9.jar\":\"System Classpath\",\"/usr/lib/hive/lib/hive-metastore.jar\":\"System Classpath\"}}\r\n",
      "{\"Event\":\"SparkListenerApplicationStart\",\"App Name\":\"PySparkShell\",\"App ID\":\"app-20160322100057-0021\",\"Timestamp\":1458658855358,\"User\":\"frenchwr\"}\r\n",
      "{\"Event\":\"SparkListenerExecutorAdded\",\"Timestamp\":1458658859698,\"Executor ID\":\"1\",\"Executor Info\":{\"Host\":\"10.0.22.248\",\"Total Cores\":16,\"Log Urls\":{\"stdout\":\"http://10.0.22.248:18081/logPage/?appId=app-20160322100057-0021&executorId=1&logType=stdout\",\"stderr\":\"http://10.0.22.248:18081/logPage/?appId=app-20160322100057-0021&executorId=1&logType=stderr\"}}}\r\n",
      "{\"Event\":\"SparkListenerExecutorAdded\",\"Timestamp\":1458658859705,\"Executor ID\":\"2\",\"Executor Info\":{\"Host\":\"10.0.22.244\",\"Total Cores\":16,\"Log Urls\":{\"stdout\":\"http://10.0.22.244:18081/logPage/?appId=app-20160322100057-0021&executorId=2&logType=stdout\",\"stderr\":\"http://10.0.22.244:18081/logPage/?appId=app-20160322100057-0021&executorId=2&logType=stderr\"}}}\r\n",
      "{\"Event\":\"SparkListenerExecutorAdded\",\"Timestamp\":1458658859716,\"Executor ID\":\"0\",\"Executor Info\":{\"Host\":\"10.0.22.245\",\"Total Cores\":16,\"Log Urls\":{\"stdout\":\"http://10.0.22.245:18081/logPage/?appId=app-20160322100057-0021&executorId=0&logType=stdout\",\"stderr\":\"http://10.0.22.245:18081/logPage/?appId=app-20160322100057-0021&executorId=0&logType=stderr\"}}}\r\n",
      "{\"Event\":\"SparkListenerExecutorAdded\",\"Timestamp\":1458658859719,\"Executor ID\":\"3\",\"Executor Info\":{\"Host\":\"10.0.22.247\",\"Total Cores\":16,\"Log Urls\":{\"stdout\":\"http://10.0.22.247:18081/logPage/?appId=app-20160322100057-0021&executorId=3&logType=stdout\",\"stderr\":\"http://10.0.22.247:18081/logPage/?appId=app-20160322100057-0021&executorId=3&logType=stderr\"}}}\r\n",
      "{\"Event\":\"SparkListenerExecutorAdded\",\"Timestamp\":1458658859734,\"Executor ID\":\"4\",\"Executor Info\":{\"Host\":\"10.0.22.246\",\"Total Cores\":16,\"Log Urls\":{\"stdout\":\"http://10.0.22.246:18081/logPage/?appId=app-20160322100057-0021&executorId=4&logType=stdout\",\"stderr\":\"http://10.0.22.246:18081/logPage/?appId=app-20160322100057-0021&executorId=4&logType=stderr\"}}}\r\n",
      "{\"Event\":\"SparkListenerExecutorAdded\",\"Timestamp\":1458658859818,\"Executor ID\":\"5\",\"Executor Info\":{\"Host\":\"10.0.22.243\",\"Total Cores\":16,\"Log Urls\":{\"stdout\":\"http://10.0.22.243:18081/logPage/?appId=app-20160322100057-0021&executorId=5&logType=stdout\",\"stderr\":\"http://10.0.22.243:18081/logPage/?appId=app-20160322100057-0021&executorId=5&logType=stderr\"}}}\r\n",
      "{\"Event\":\"SparkListenerBlockManagerAdded\",\"Block Manager ID\":{\"Executor ID\":\"1\",\"Host\":\"10.0.22.248\",\"Port\":35169},\"Maximum Memory\":555755765,\"Timestamp\":1458658859836}\r\n",
      "{\"Event\":\"SparkListenerBlockManagerAdded\",\"Block Manager ID\":{\"Executor ID\":\"2\",\"Host\":\"10.0.22.244\",\"Port\":58602},\"Maximum Memory\":555755765,\"Timestamp\":1458658859842}\r\n",
      "{\"Event\":\"SparkListenerBlockManagerAdded\",\"Block Manager ID\":{\"Executor ID\":\"0\",\"Host\":\"10.0.22.245\",\"Port\":49826},\"Maximum Memory\":555755765,\"Timestamp\":1458658859850}\r\n",
      "{\"Event\":\"SparkListenerBlockManagerAdded\",\"Block Manager ID\":{\"Executor ID\":\"3\",\"Host\":\"10.0.22.247\",\"Port\":49491},\"Maximum Memory\":555755765,\"Timestamp\":1458658859891}\r\n",
      "{\"Event\":\"SparkListenerBlockManagerAdded\",\"Block Manager ID\":{\"Executor ID\":\"4\",\"Host\":\"10.0.22.246\",\"Port\":54937},\"Maximum Memory\":555755765,\"Timestamp\":1458658859897}\r\n",
      "{\"Event\":\"SparkListenerBlockManagerAdded\",\"Block Manager ID\":{\"Executor ID\":\"5\",\"Host\":\"10.0.22.243\",\"Port\":55798},\"Maximum Memory\":555755765,\"Timestamp\":1458658861241}\r\n",
      "{\"Event\":\"SparkListenerApplicationEnd\",\"Timestamp\":1458658913879}\r\n"
     ]
    }
   ],
   "source": [
    "!hadoop fs -cat /user/spark/applicationHistory/app-20160322100057-0021"
   ]
  },
  {
   "cell_type": "code",
   "execution_count": 23,
   "metadata": {
    "collapsed": false
   },
   "outputs": [
    {
     "name": "stdout",
     "output_type": "stream",
     "text": [
      "\u001b[0m\u001b[38;5;27mbuild\u001b[0m/      \u001b[38;5;27mhadoop_tutorial\u001b[0m/       hdfs.ipynb          \u001b[38;5;27mmydir\u001b[0m/    \u001b[38;5;27mmy_test_repo\u001b[0m/\r\n",
      "example.db  \u001b[38;5;9mhadoopTutorial.tar.gz\u001b[0m  \u001b[38;5;27mjupyter_notebooks\u001b[0m/  myls.txt\r\n"
     ]
    }
   ],
   "source": [
    "%ls"
   ]
  },
  {
   "cell_type": "code",
   "execution_count": 24,
   "metadata": {
    "collapsed": true
   },
   "outputs": [],
   "source": [
    "%ls > myls.txt"
   ]
  },
  {
   "cell_type": "code",
   "execution_count": 25,
   "metadata": {
    "collapsed": false
   },
   "outputs": [
    {
     "name": "stdout",
     "output_type": "stream",
     "text": [
      "\u001b[0m\u001b[38;5;27mbuild\u001b[0m/\r\n",
      "example.db\r\n",
      "\u001b[38;5;27mhadoop_tutorial\u001b[0m/\r\n",
      "\u001b[38;5;9mhadoopTutorial.tar.gz\u001b[0m\r\n",
      "hdfs.ipynb\r\n",
      "\u001b[38;5;27mjupyter_notebooks\u001b[0m/\r\n",
      "\u001b[38;5;27mmydir\u001b[0m/\r\n",
      "myls.txt\r\n",
      "\u001b[38;5;27mmy_test_repo\u001b[0m/\r\n"
     ]
    }
   ],
   "source": [
    "%cat myls.txt"
   ]
  },
  {
   "cell_type": "code",
   "execution_count": 26,
   "metadata": {
    "collapsed": false
   },
   "outputs": [
    {
     "name": "stdout",
     "output_type": "stream",
     "text": [
      "put: `/tmp/myls.txt': File exists\r\n"
     ]
    }
   ],
   "source": [
    "!hadoop fs -put myls.txt /tmp/"
   ]
  },
  {
   "cell_type": "code",
   "execution_count": 27,
   "metadata": {
    "collapsed": false
   },
   "outputs": [
    {
     "name": "stdout",
     "output_type": "stream",
     "text": [
      "-rw-r--r--   3 frenchwr hadoop        204 2016-03-28 16:45 /tmp/myls.txt\r\n"
     ]
    }
   ],
   "source": [
    "!hadoop fs -ls /tmp/myls.txt"
   ]
  },
  {
   "cell_type": "code",
   "execution_count": 28,
   "metadata": {
    "collapsed": false
   },
   "outputs": [
    {
     "name": "stdout",
     "output_type": "stream",
     "text": [
      "\u001b[0m\u001b[38;5;27mbuild\u001b[0m/\r\n",
      "example.db\r\n",
      "\u001b[38;5;27mhadoop_tutorial\u001b[0m/\r\n",
      "\u001b[38;5;9mhadoopTutorial.tar.gz\u001b[0m\r\n",
      "hdfs.ipynb\r\n",
      "\u001b[38;5;27mjupyter_notebooks\u001b[0m/\r\n",
      "\u001b[38;5;27mmydir\u001b[0m/\r\n",
      "myls.txt\r\n",
      "\u001b[38;5;27mmy_test_repo\u001b[0m/\r\n"
     ]
    }
   ],
   "source": [
    "!hadoop fs -cat /tmp/myls.txt"
   ]
  },
  {
   "cell_type": "markdown",
   "metadata": {},
   "source": [
    "Standard Unix permissions also apply:"
   ]
  },
  {
   "cell_type": "code",
   "execution_count": 29,
   "metadata": {
    "collapsed": false
   },
   "outputs": [
    {
     "name": "stdout",
     "output_type": "stream",
     "text": [
      "Found 5 items\r\n",
      "drwxr-xr-x   - hbase hadoop          0 2016-02-22 11:45 /hbase\r\n",
      "drwx------   - hdfs  hadoop          0 2016-03-28 16:56 /mytestdir\r\n",
      "drwxrwxrwt   - hdfs  hadoop          0 2016-03-28 16:45 /tmp\r\n",
      "drwxr-xr-x   - hdfs  hadoop          0 2016-03-17 17:09 /user\r\n",
      "drwxr-xr-x   - yarn  hadoop          0 2016-01-07 18:44 /var\r\n"
     ]
    }
   ],
   "source": [
    "!hadoop fs -ls /"
   ]
  },
  {
   "cell_type": "code",
   "execution_count": 30,
   "metadata": {
    "collapsed": false
   },
   "outputs": [
    {
     "name": "stdout",
     "output_type": "stream",
     "text": [
      "16/03/28 16:59:27 INFO fs.TrashPolicyDefault: Namenode trash configuration: Deletion interval = 1440 minutes, Emptier interval = 360 minutes.\r\n",
      "rm: Failed to move to trash: hdfs://vmp741.vampire:8020/mytestdir: Permission denied: user=frenchwr, access=WRITE, inode=\"/\":hdfs:hadoop:drwxr-xr-x\r\n"
     ]
    }
   ],
   "source": [
    "!hadoop fs -rm -r /mytestdir"
   ]
  },
  {
   "cell_type": "markdown",
   "metadata": {},
   "source": [
    "You can also get a full list of options by typing ```hadoop fs``` without any arguments:"
   ]
  },
  {
   "cell_type": "code",
   "execution_count": 31,
   "metadata": {
    "collapsed": false
   },
   "outputs": [
    {
     "name": "stdout",
     "output_type": "stream",
     "text": [
      "Usage: hadoop fs [generic options]\n",
      "\t[-appendToFile <localsrc> ... <dst>]\n",
      "\t[-cat [-ignoreCrc] <src> ...]\n",
      "\t[-checksum <src> ...]\n",
      "\t[-chgrp [-R] GROUP PATH...]\n",
      "\t[-chmod [-R] <MODE[,MODE]... | OCTALMODE> PATH...]\n",
      "\t[-chown [-R] [OWNER][:[GROUP]] PATH...]\n",
      "\t[-copyFromLocal [-f] [-p] [-l] <localsrc> ... <dst>]\n",
      "\t[-copyToLocal [-p] [-ignoreCrc] [-crc] <src> ... <localdst>]\n",
      "\t[-count [-q] [-h] <path> ...]\n",
      "\t[-cp [-f] [-p | -p[topax]] <src> ... <dst>]\n",
      "\t[-createSnapshot <snapshotDir> [<snapshotName>]]\n",
      "\t[-deleteSnapshot <snapshotDir> <snapshotName>]\n",
      "\t[-df [-h] [<path> ...]]\n",
      "\t[-du [-s] [-h] <path> ...]\n",
      "\t[-expunge]\n",
      "\t[-find <path> ... <expression> ...]\n",
      "\t[-get [-p] [-ignoreCrc] [-crc] <src> ... <localdst>]\n",
      "\t[-getfacl [-R] <path>]\n",
      "\t[-getfattr [-R] {-n name | -d} [-e en] <path>]\n",
      "\t[-getmerge [-nl] <src> <localdst>]\n",
      "\t[-help [cmd ...]]\n",
      "\t[-ls [-d] [-h] [-R] [<path> ...]]\n",
      "\t[-mkdir [-p] <path> ...]\n",
      "\t[-moveFromLocal <localsrc> ... <dst>]\n",
      "\t[-moveToLocal <src> <localdst>]\n",
      "\t[-mv <src> ... <dst>]\n",
      "\t[-put [-f] [-p] [-l] <localsrc> ... <dst>]\n",
      "\t[-renameSnapshot <snapshotDir> <oldName> <newName>]\n",
      "\t[-rm [-f] [-r|-R] [-skipTrash] <src> ...]\n",
      "\t[-rmdir [--ignore-fail-on-non-empty] <dir> ...]\n",
      "\t[-setfacl [-R] [{-b|-k} {-m|-x <acl_spec>} <path>]|[--set <acl_spec> <path>]]\n",
      "\t[-setfattr {-n name [-v value] | -x name} <path>]\n",
      "\t[-setrep [-R] [-w] <rep> <path> ...]\n",
      "\t[-stat [format] <path> ...]\n",
      "\t[-tail [-f] <file>]\n",
      "\t[-test -[defsz] <path>]\n",
      "\t[-text [-ignoreCrc] <src> ...]\n",
      "\t[-touchz <path> ...]\n",
      "\t[-usage [cmd ...]]\n",
      "\n",
      "Generic options supported are\n",
      "-conf <configuration file>     specify an application configuration file\n",
      "-D <property=value>            use value for given property\n",
      "-fs <local|namenode:port>      specify a namenode\n",
      "-jt <local|resourcemanager:port>    specify a ResourceManager\n",
      "-files <comma separated list of files>    specify comma separated files to be copied to the map reduce cluster\n",
      "-libjars <comma separated list of jars>    specify comma separated jar files to include in the classpath.\n",
      "-archives <comma separated list of archives>    specify comma separated archives to be unarchived on the compute machines.\n",
      "\n",
      "The general command line syntax is\n",
      "bin/hadoop command [genericOptions] [commandOptions]\n",
      "\n"
     ]
    }
   ],
   "source": [
    "!hadoop fs"
   ]
  }
 ],
 "metadata": {
  "kernelspec": {
   "display_name": "Python 2",
   "language": "python",
   "name": "python2"
  },
  "language_info": {
   "codemirror_mode": {
    "name": "ipython",
    "version": 2
   },
   "file_extension": ".py",
   "mimetype": "text/x-python",
   "name": "python",
   "nbconvert_exporter": "python",
   "pygments_lexer": "ipython2",
   "version": "2.7.11"
  }
 },
 "nbformat": 4,
 "nbformat_minor": 0
}
